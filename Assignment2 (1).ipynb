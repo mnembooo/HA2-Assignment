{
 "cells": [
  {
   "cell_type": "code",
   "execution_count": 3,
   "id": "f14ca877-50a9-44bb-8c64-bc4e6228023a",
   "metadata": {},
   "outputs": [
    {
     "name": "stderr",
     "output_type": "stream",
     "text": [
      "C:\\Users\\user\\AppData\\Local\\Temp\\ipykernel_5664\\3090805088.py:1: DeprecationWarning: \n",
      "Pyarrow will become a required dependency of pandas in the next major release of pandas (pandas 3.0),\n",
      "(to allow more performant data types, such as the Arrow string type, and better interoperability with other libraries)\n",
      "but was not found to be installed on your system.\n",
      "If this would cause problems for you,\n",
      "please provide us feedback at https://github.com/pandas-dev/pandas/issues/54466\n",
      "        \n",
      "  import pandas as pd\n"
     ]
    }
   ],
   "source": [
    "import pandas as pd\n",
    "import numpy as np\n",
    "import matplotlib.pyplot as plt\n",
    "\n"
   ]
  },
  {
   "cell_type": "markdown",
   "id": "fb92615e-c0d4-4e81-b8af-3b26f0d775c3",
   "metadata": {},
   "source": [
    "<b> Which type of data can be used while creating a series object in pandas? </b>\n",
    ","
   ]
  },
  {
   "cell_type": "markdown",
   "id": "4635f9da-408c-4313-80a8-2e826ef2bbd5",
   "metadata": {},
   "source": [
    "-Series\n",
    "-Scalars \n",
    "-Numpy Series \n",
    "-Another Serieses.\n",
    "<b>int,float,str</b>\n"
   ]
  },
  {
   "cell_type": "code",
   "execution_count": null,
   "id": "eda62eba-eb97-4038-909b-a2004191eefb",
   "metadata": {},
   "outputs": [],
   "source": [
    "\n"
   ]
  },
  {
   "cell_type": "code",
   "execution_count": 12,
   "id": "383c0635-d73c-4f46-ab09-65edf9e54e89",
   "metadata": {},
   "outputs": [
    {
     "name": "stdout",
     "output_type": "stream",
     "text": [
      "January       1\n",
      "February      2\n",
      "March         3\n",
      "April         4\n",
      "May           5\n",
      "June          6\n",
      "July          7\n",
      "August        8\n",
      "September     9\n",
      "October      10\n",
      "November     11\n",
      "Decembar     12\n",
      "dtype: int64\n"
     ]
    }
   ],
   "source": [
    "#2nd question\n",
    "\n",
    "month_series = {\n",
    "'January' : 1,\n",
    "'February' : 2,\n",
    "'March' : 3, \n",
    "'April' :4,\n",
    "'May':5,\n",
    "'June' :6,\n",
    "'July':7,\n",
    "'August':8,\n",
    "'September':9,\n",
    "'October':10,\n",
    "'November': 11,\n",
    "'Decembar':12\n",
    "}\n",
    "\n",
    "me_series = pd.Series(month_series)\n",
    "print(me_series)\n"
   ]
  },
  {
   "cell_type": "code",
   "execution_count": 23,
   "id": "92bcd888-c466-4dc2-92e3-685425e72a8c",
   "metadata": {},
   "outputs": [
    {
     "name": "stdout",
     "output_type": "stream",
     "text": [
      "MatMie     1\n",
      "MatDais    2\n",
      "COMIE      3\n",
      "COMEC      4\n",
      "dtype: int64\n"
     ]
    },
    {
     "name": "stdin",
     "output_type": "stream",
     "text": [
      "Write 'ok' to clear the board:  ok\n",
      "How many students you want to add? :  2\n",
      "Name of Student:  Nur\n",
      "Id as followed in the board:  2\n"
     ]
    },
    {
     "name": "stdout",
     "output_type": "stream",
     "text": [
      "Nur    MatDais\n",
      "dtype: object\n"
     ]
    }
   ],
   "source": [
    "#3rd question\n",
    "import os\n",
    "import time\n",
    "import platform\n",
    "def clear_screen():\n",
    "    if platform.system() == \"Windows\":\n",
    "        os.system('cls')\n",
    "    else:\n",
    "        os.system('clear')\n",
    "\n",
    "\n",
    "students = {\n",
    "'MatMie' : 1,\n",
    "'MatDais' : 2,\n",
    "'COMIE' : 3,\n",
    "'COMEC' : 4\n",
    "}\n",
    "choose_series = pd.Series(students)\n",
    "print(choose_series)\n",
    "\n",
    "students1 = {\n",
    "1 :'MatMie',\n",
    "2 :'MatDais',\n",
    "3 : 'COMIE',\n",
    "4 : 'COMEC' \n",
    "}\n",
    "user_input = input(\"Write 'ok' to clear the board: \")\n",
    "if user_input == 'ok':\n",
    "    clear_screen()\n",
    "\n",
    "qua_stud = int(input('How many students you want to add? : '))\n",
    "time.sleep(3)\n",
    "name_of_student = input('Name of Student: ')\n",
    "id_student = int(input(\"Id as followed in the board: \"))\n",
    "\n",
    "group_data = {\n",
    "}\n",
    "\n",
    "def group_distribution(id_student):\n",
    "    if id_student == 1:\n",
    "        group_data[name_of_student] = students1.get(1)\n",
    "    elif id_student == 2:\n",
    "        group_data[name_of_student] = students1.get(2)\n",
    "    elif id_student == 3:\n",
    "        group_data[name_of_student] = students1.get(3)\n",
    "    elif id_student == 4:\n",
    "        group_data[name_of_student] = students1.get(4)\n",
    "for i in range(qua_stud):\n",
    "    group_distribution(id_student)\n",
    "\n",
    "ans = pd.Series(group_data)\n",
    "print(ans)\n",
    "    \n"
   ]
  },
  {
   "cell_type": "code",
   "execution_count": 5,
   "id": "d1b3bcaf-ba69-4c68-ba88-f91eb157c160",
   "metadata": {},
   "outputs": [
    {
     "name": "stdout",
     "output_type": "stream",
     "text": [
      "        name  score  attempts qualify\n",
      "a  Anastasia   12.5         1     yes\n",
      "b       Dima    9.0         3      no\n",
      "c  Katherine   16.5         2     yes\n",
      "d      James    NaN         3      no\n",
      "e      Emily    9.0         2      no\n",
      "f    Michael   20.0         3     yes\n",
      "g    Matthew   14.5         1     yes\n",
      "h      Laura    NaN         1      no\n",
      "i      Kevin    8.0         2      no\n",
      "j      Jonas   19.0         1     yes\n"
     ]
    }
   ],
   "source": [
    "#4 question\n",
    "exam_data = {'name': ['Anastasia', 'Dima', 'Katherine', 'James', 'Emily', 'Michael', 'Matthew', 'Laura', 'Kevin', 'Jonas'],\n",
    "'score': [12.5, 9, 16.5, np.nan, 9, 20, 14.5, np.nan, 8, 19],\n",
    "'attempts': [1, 3, 2, 3, 2, 3, 1, 1, 2, 1],\n",
    "'qualify': ['yes', 'no', 'yes', 'no', 'no', 'yes', 'yes', 'no', 'no', 'yes']}\n",
    "labels = ['a', 'b', 'c', 'd', 'e', 'f', 'g', 'h', 'i', 'j']\n",
    "\n",
    "data_frame = pd.DataFrame(exam_data, index=labels)\n",
    "\n",
    "print(data_frame)"
   ]
  },
  {
   "cell_type": "code",
   "execution_count": 7,
   "id": "3828bfe8-51c5-4ac0-b58d-63e152b1412c",
   "metadata": {},
   "outputs": [
    {
     "data": {
      "text/html": [
       "<div>\n",
       "<style scoped>\n",
       "    .dataframe tbody tr th:only-of-type {\n",
       "        vertical-align: middle;\n",
       "    }\n",
       "\n",
       "    .dataframe tbody tr th {\n",
       "        vertical-align: top;\n",
       "    }\n",
       "\n",
       "    .dataframe thead th {\n",
       "        text-align: right;\n",
       "    }\n",
       "</style>\n",
       "<table border=\"1\" class=\"dataframe\">\n",
       "  <thead>\n",
       "    <tr style=\"text-align: right;\">\n",
       "      <th></th>\n",
       "      <th>name</th>\n",
       "      <th>score</th>\n",
       "      <th>attempts</th>\n",
       "      <th>qualify</th>\n",
       "    </tr>\n",
       "  </thead>\n",
       "  <tbody>\n",
       "    <tr>\n",
       "      <th>b</th>\n",
       "      <td>Dima</td>\n",
       "      <td>9.0</td>\n",
       "      <td>3</td>\n",
       "      <td>no</td>\n",
       "    </tr>\n",
       "    <tr>\n",
       "      <th>d</th>\n",
       "      <td>James</td>\n",
       "      <td>NaN</td>\n",
       "      <td>3</td>\n",
       "      <td>no</td>\n",
       "    </tr>\n",
       "    <tr>\n",
       "      <th>f</th>\n",
       "      <td>Michael</td>\n",
       "      <td>20.0</td>\n",
       "      <td>3</td>\n",
       "      <td>yes</td>\n",
       "    </tr>\n",
       "  </tbody>\n",
       "</table>\n",
       "</div>"
      ],
      "text/plain": [
       "      name  score  attempts qualify\n",
       "b     Dima    9.0         3      no\n",
       "d    James    NaN         3      no\n",
       "f  Michael   20.0         3     yes"
      ]
     },
     "execution_count": 7,
     "metadata": {},
     "output_type": "execute_result"
    }
   ],
   "source": [
    "exam_data = {'name': ['Anastasia', 'Dima', 'Katherine', 'James', 'Emily', 'Michael', 'Matthew', 'Laura', 'Kevin', 'Jonas'],\n",
    "'score': [12.5, 9, 16.5, np.nan, 9, 20, 14.5, np.nan, 8, 19],\n",
    "'attempts': [1, 3, 2, 3, 2, 3, 1, 1, 2, 1],\n",
    "'qualify': ['yes', 'no', 'yes', 'no', 'no', 'yes', 'yes', 'no', 'no', 'yes']}\n",
    "labels = ['a', 'b', 'c', 'd', 'e', 'f', 'g', 'h', 'i', 'j']\n",
    "\n",
    "data_frame = pd.DataFrame(exam_data, index=labels)\n",
    "sorted_frame = data_frame[data_frame['attempts']>2]\n",
    "sorted_frame\n"
   ]
  },
  {
   "cell_type": "code",
   "execution_count": null,
   "id": "0bbfca3e-6880-41d8-a6b8-00cb31613112",
   "metadata": {},
   "outputs": [],
   "source": []
  }
 ],
 "metadata": {
  "kernelspec": {
   "display_name": "Python 3 (ipykernel)",
   "language": "python",
   "name": "python3"
  },
  "language_info": {
   "codemirror_mode": {
    "name": "ipython",
    "version": 3
   },
   "file_extension": ".py",
   "mimetype": "text/x-python",
   "name": "python",
   "nbconvert_exporter": "python",
   "pygments_lexer": "ipython3",
   "version": "3.12.2"
  }
 },
 "nbformat": 4,
 "nbformat_minor": 5
}
